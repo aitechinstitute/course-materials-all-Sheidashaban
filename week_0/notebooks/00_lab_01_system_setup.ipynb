{
 "cells": [
  {
   "cell_type": "markdown",
   "id": "0084ac83",
   "metadata": {},
   "source": [
    "# **AI TECH INSTITUTE** · *Intermediate AI & Data Science*\n",
    "### Week 00 · Lab 01 — Environment Setup & Git Basics\n",
    "**Instructor:** Amir Charkhi  |  **Goal:** Verify your Python setup, practice core libraries, and make your first Git commits.\n",
    "\n",
    "> Format: short theory → quick practice → click‑to‑reveal solution."
   ]
  },
  {
   "cell_type": "markdown",
   "id": "09ab385f",
   "metadata": {},
   "source": [
    "## Learning Objectives\n",
    "- Verify Python environment configuration\n",
    "- Test essential data science libraries\n",
    "- Practice basic Git commands\n",
    "- Create your first repository commits"
   ]
  },
  {
   "cell_type": "markdown",
   "id": "47ed1ac6",
   "metadata": {},
   "source": [
    "## Part 1 — Environment Verification\n",
    "Let's check that your environment and libraries are good to go."
   ]
  },
  {
   "cell_type": "code",
   "execution_count": 1,
   "id": "6a16aadc",
   "metadata": {},
   "outputs": [
    {
     "name": "stdout",
     "output_type": "stream",
     "text": [
      "==================================================\n",
      "ENVIRONMENT INFORMATION\n",
      "==================================================\n",
      "Python Version: 3.12.7 | packaged by Anaconda, Inc. | (main, Oct  4 2024, 13:17:27) [MSC v.1929 64 bit (AMD64)]\n",
      "Platform: Windows-11-10.0.26100-SP0\n",
      "Processor: Intel64 Family 6 Model 158 Stepping 10, GenuineIntel\n",
      "Current Date: 2025-08-24 20:00:29\n",
      "==================================================\n"
     ]
    }
   ],
   "source": [
    "# Cell 1: System Information\n",
    "import sys, platform, datetime\n",
    "print('=' * 50)\n",
    "print('ENVIRONMENT INFORMATION')\n",
    "print('=' * 50)\n",
    "print(f'Python Version: {sys.version}')\n",
    "print(f'Platform: {platform.platform()}')\n",
    "print(f'Processor: {platform.processor()}')\n",
    "print('Current Date:', datetime.datetime.now().strftime(\"%Y-%m-%d %H:%M:%S\"))\n",
    "print('=' * 50)"
   ]
  },
  {
   "cell_type": "code",
   "execution_count": 3,
   "id": "8bb01191",
   "metadata": {},
   "outputs": [
    {
     "name": "stdout",
     "output_type": "stream",
     "text": [
      "📚 Checking installed libraries...\n",
      "\n",
      "✅ NumPy           1.26.4\n",
      "✅ Pandas          2.2.2\n",
      "✅ Matplotlib      3.9.2\n",
      "✅ Seaborn         0.13.2\n",
      "✅ Scikit-learn    1.7.0\n",
      "✅ SciPy           1.13.1\n",
      "✅ StatsModels     0.14.2\n",
      "✅ Plotly          5.24.1\n",
      "\n",
      "📊 Summary: 8 installed, 0 missing\n"
     ]
    }
   ],
   "source": [
    "# Cell 2: Check Core Data Science Libraries\n",
    "import importlib, warnings\n",
    "warnings.filterwarnings('ignore')\n",
    "\n",
    "libraries = {\n",
    "    'numpy': 'NumPy', 'pandas': 'Pandas', 'matplotlib': 'Matplotlib', 'seaborn': 'Seaborn',\n",
    "    'sklearn': 'Scikit-learn', 'scipy': 'SciPy', 'statsmodels': 'StatsModels', 'plotly': 'Plotly'\n",
    "}\n",
    "\n",
    "print('📚 Checking installed libraries...\\n')\n",
    "installed, missing = [], []\n",
    "for module, name in libraries.items():\n",
    "    try:\n",
    "        lib = importlib.import_module(module)\n",
    "        version = getattr(lib, '__version__', 'unknown')\n",
    "        installed.append(f'✅ {name:<15} {version}')\n",
    "        print(f'✅ {name:<15} {version}')\n",
    "    except ImportError:\n",
    "        missing.append(f'❌ {name}')\n",
    "        print(f'❌ {name:<15} NOT INSTALLED')\n",
    "print(f'\\n📊 Summary: {len(installed)} installed, {len(missing)} missing')"
   ]
  },
  {
   "cell_type": "markdown",
   "id": "ed8ecef6",
   "metadata": {},
   "source": [
    "**Task 1 — Fix Missing Libraries**\n",
    "If anything is missing, install with `pip` (uncomment first):"
   ]
  },
  {
   "cell_type": "code",
   "execution_count": null,
   "id": "71f6f321",
   "metadata": {},
   "outputs": [],
   "source": [
    "# !pip install numpy pandas matplotlib seaborn scikit-learn scipy statsmodels plotly"
   ]
  },
  {
   "cell_type": "markdown",
   "id": "9d9b16f5",
   "metadata": {},
   "source": [
    "## Part 2 — Git Configuration\n",
    "Check your Git install and global identity."
   ]
  },
  {
   "cell_type": "code",
   "execution_count": 5,
   "id": "de95fc13",
   "metadata": {},
   "outputs": [
    {
     "name": "stdout",
     "output_type": "stream",
     "text": [
      "Git Version: git version 2.49.0.windows.1\n",
      "Git User: Sheidashaban\n",
      "Git Email: sheida.shaban18@gmail.com\n"
     ]
    }
   ],
   "source": [
    "# Cell: Git Configuration Check\n",
    "import subprocess\n",
    "def run_git_command(command):\n",
    "    try:\n",
    "        result = subprocess.run(command, shell=True, capture_output=True, text=True)\n",
    "        return result.stdout.strip()\n",
    "    except Exception as e:\n",
    "        return f'Error: {e}'\n",
    "\n",
    "git_version = run_git_command('git --version')\n",
    "print(f'Git Version: {git_version}')\n",
    "user_name = run_git_command('git config --global user.name')\n",
    "user_email = run_git_command('git config --global user.email')\n",
    "print('Git User:', user_name if user_name else 'Not configured')\n",
    "print('Git Email:', user_email if user_email else 'Not configured')\n",
    "if not user_name or not user_email:\n",
    "    print('\\n⚠️ Git not fully configured! Run in terminal:')\n",
    "    print('git config --global user.name \"Your Name\"')\n",
    "    print('git config --global user.email \"your.email@example.com\"')"
   ]
  },
  {
   "cell_type": "markdown",
   "id": "3ab97775",
   "metadata": {},
   "source": [
    "### Task — Create Your First Repository\n",
    "Run these in your **terminal** (not in Jupyter):"
   ]
  },
  {
   "cell_type": "code",
   "execution_count": null,
   "id": "4ef71b9c",
   "metadata": {},
   "outputs": [],
   "source": [
    "# Terminal commands — copy and run in your shell\n",
    "commands = '''\n",
    "git init my-data-science-journey\n",
    "cd my-data-science-journey\n",
    "echo \"# My Data Science Journey\" > README.md\n",
    "echo \"## Week 0: Foundations\" >> README.md\n",
    "echo \"- ✅ Environment setup complete\" >> README.md\n",
    "echo \"- ✅ Git configured\" >> README.md\n",
    "echo \"- ✅ Ready to learn!\" >> README.md\n",
    "echo \"*.pyc\" > .gitignore\n",
    "echo \"__pycache__/\" >> .gitignore\n",
    "echo \".ipynb_checkpoints/\" >> .gitignore\n",
    "echo \"data/\" >> .gitignore\n",
    "echo \".env\" >> .gitignore\n",
    "git add README.md .gitignore\n",
    "git commit -m \"Initial commit: Setup repository with README and .gitignore\"\n",
    "git log --oneline\n",
    "'''\n",
    "print(commands)"
   ]
  },
  {
   "cell_type": "markdown",
   "id": "1c380357",
   "metadata": {},
   "source": [
    "## Lab Summary\n",
    "**Checklist**\n",
    "- [ ] Environment verification passed  \n",
    "- [ ] All required libraries installed  \n",
    "- [ ] Git configured (name + email)  \n",
    "- [ ] Created first repository  \n",
    "\n",
    "**Next Steps**\n",
    "- Save this notebook to your repo  \n",
    "- Commit: `git add . && git commit -m \"Complete Lab 1\"`  \n",
    "- Push to GitHub  \n",
    "- Share your repo link in Slack"
   ]
  },
  {
   "cell_type": "code",
   "execution_count": null,
   "id": "e2c66958-4dc5-4261-9d30-d7045db0eb46",
   "metadata": {},
   "outputs": [],
   "source": []
  }
 ],
 "metadata": {
  "kernelspec": {
   "display_name": "Python [conda env:base] *",
   "language": "python",
   "name": "conda-base-py"
  },
  "language_info": {
   "codemirror_mode": {
    "name": "ipython",
    "version": 3
   },
   "file_extension": ".py",
   "mimetype": "text/x-python",
   "name": "python",
   "nbconvert_exporter": "python",
   "pygments_lexer": "ipython3",
   "version": "3.12.7"
  }
 },
 "nbformat": 4,
 "nbformat_minor": 5
}
